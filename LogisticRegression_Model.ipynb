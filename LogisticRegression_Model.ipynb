{
 "cells": [
  {
   "cell_type": "code",
   "execution_count": 1,
   "id": "76a04c40",
   "metadata": {
    "_cell_guid": "b1076dfc-b9ad-4769-8c92-a6c4dae69d19",
    "_uuid": "8f2839f25d086af736a60e9eeb907d3b93b6e0e5",
    "execution": {
     "iopub.execute_input": "2024-01-13T13:49:45.675090Z",
     "iopub.status.busy": "2024-01-13T13:49:45.674706Z",
     "iopub.status.idle": "2024-01-13T13:49:46.864030Z",
     "shell.execute_reply": "2024-01-13T13:49:46.862689Z"
    },
    "papermill": {
     "duration": 1.197695,
     "end_time": "2024-01-13T13:49:46.866289",
     "exception": false,
     "start_time": "2024-01-13T13:49:45.668594",
     "status": "completed"
    },
    "tags": []
   },
   "outputs": [
    {
     "name": "stdout",
     "output_type": "stream",
     "text": [
      "/kaggle/input/llm-detect-ai-generated-text/sample_submission.csv\n",
      "/kaggle/input/llm-detect-ai-generated-text/train_prompts.csv\n",
      "/kaggle/input/llm-detect-ai-generated-text/test_essays.csv\n",
      "/kaggle/input/llm-detect-ai-generated-text/train_essays.csv\n"
     ]
    }
   ],
   "source": [
    "# This Python 3 environment comes with many helpful analytics libraries installed\n",
    "# It is defined by the kaggle/python Docker image: https://github.com/kaggle/docker-python\n",
    "# For example, here's several helpful packages to load\n",
    "\n",
    "import numpy as np # linear algebra\n",
    "import pandas as pd # data processing, CSV file I/O (e.g. pd.read_csv)\n",
    "\n",
    "# Input data files are available in the read-only \"../input/\" directory\n",
    "# For example, running this (by clicking run or pressing Shift+Enter) will list all files under the input directory\n",
    "\n",
    "import os\n",
    "for dirname, _, filenames in os.walk('/kaggle/input'):\n",
    "    for filename in filenames:\n",
    "        print(os.path.join(dirname, filename))\n",
    "\n",
    "# You can write up to 20GB to the current directory (/kaggle/working/) that gets preserved as output when you create a version using \"Save & Run All\" \n",
    "# You can also write temporary files to /kaggle/temp/, but they won't be saved outside of the current session"
   ]
  },
  {
   "cell_type": "code",
   "execution_count": 2,
   "id": "acbe9b33",
   "metadata": {
    "execution": {
     "iopub.execute_input": "2024-01-13T13:49:46.877215Z",
     "iopub.status.busy": "2024-01-13T13:49:46.876779Z",
     "iopub.status.idle": "2024-01-13T13:49:48.699916Z",
     "shell.execute_reply": "2024-01-13T13:49:48.698942Z"
    },
    "papermill": {
     "duration": 1.831031,
     "end_time": "2024-01-13T13:49:48.702427",
     "exception": false,
     "start_time": "2024-01-13T13:49:46.871396",
     "status": "completed"
    },
    "tags": []
   },
   "outputs": [
    {
     "name": "stderr",
     "output_type": "stream",
     "text": [
      "/opt/conda/lib/python3.10/site-packages/scipy/__init__.py:146: UserWarning: A NumPy version >=1.16.5 and <1.23.0 is required for this version of SciPy (detected version 1.24.3\n",
      "  warnings.warn(f\"A NumPy version >={np_minversion} and <{np_maxversion}\"\n"
     ]
    }
   ],
   "source": [
    "import pandas as pd\n",
    "from sklearn.model_selection import train_test_split\n",
    "from sklearn.feature_extraction.text import TfidfVectorizer\n",
    "from sklearn.linear_model import LogisticRegression\n",
    "from sklearn.metrics import accuracy_score, classification_report"
   ]
  },
  {
   "cell_type": "code",
   "execution_count": 3,
   "id": "90a8e78b",
   "metadata": {
    "execution": {
     "iopub.execute_input": "2024-01-13T13:49:48.713268Z",
     "iopub.status.busy": "2024-01-13T13:49:48.712980Z",
     "iopub.status.idle": "2024-01-13T13:49:48.814736Z",
     "shell.execute_reply": "2024-01-13T13:49:48.813655Z"
    },
    "papermill": {
     "duration": 0.109543,
     "end_time": "2024-01-13T13:49:48.817030",
     "exception": false,
     "start_time": "2024-01-13T13:49:48.707487",
     "status": "completed"
    },
    "tags": []
   },
   "outputs": [],
   "source": [
    "# Load the data\n",
    "train_essays = pd.read_csv('/kaggle/input/llm-detect-ai-generated-text/train_essays.csv')\n",
    "train_prompts = pd.read_csv('/kaggle/input/llm-detect-ai-generated-text/train_prompts.csv')"
   ]
  },
  {
   "cell_type": "code",
   "execution_count": 4,
   "id": "9fea7d1f",
   "metadata": {
    "execution": {
     "iopub.execute_input": "2024-01-13T13:49:48.827924Z",
     "iopub.status.busy": "2024-01-13T13:49:48.827593Z",
     "iopub.status.idle": "2024-01-13T13:49:48.868493Z",
     "shell.execute_reply": "2024-01-13T13:49:48.867796Z"
    },
    "papermill": {
     "duration": 0.048272,
     "end_time": "2024-01-13T13:49:48.870291",
     "exception": false,
     "start_time": "2024-01-13T13:49:48.822019",
     "status": "completed"
    },
    "tags": []
   },
   "outputs": [],
   "source": [
    "# Merge the essays with their prompts\n",
    "train_data = pd.merge(train_essays, train_prompts, on='prompt_id', how='left')"
   ]
  },
  {
   "cell_type": "code",
   "execution_count": 5,
   "id": "198fca80",
   "metadata": {
    "execution": {
     "iopub.execute_input": "2024-01-13T13:49:48.880484Z",
     "iopub.status.busy": "2024-01-13T13:49:48.880217Z",
     "iopub.status.idle": "2024-01-13T13:49:48.890230Z",
     "shell.execute_reply": "2024-01-13T13:49:48.889416Z"
    },
    "papermill": {
     "duration": 0.017121,
     "end_time": "2024-01-13T13:49:48.892004",
     "exception": false,
     "start_time": "2024-01-13T13:49:48.874883",
     "status": "completed"
    },
    "tags": []
   },
   "outputs": [],
   "source": [
    "# Preprocess the text data\n",
    "# Add any additional preprocessing steps as needed (e.g., stemming, lemmatization)\n",
    "train_data['processed_text'] = train_data['text'].apply(lambda x: x.lower())"
   ]
  },
  {
   "cell_type": "code",
   "execution_count": 6,
   "id": "0bad2b8f",
   "metadata": {
    "execution": {
     "iopub.execute_input": "2024-01-13T13:49:48.902105Z",
     "iopub.status.busy": "2024-01-13T13:49:48.901833Z",
     "iopub.status.idle": "2024-01-13T13:49:48.908440Z",
     "shell.execute_reply": "2024-01-13T13:49:48.907721Z"
    },
    "papermill": {
     "duration": 0.013683,
     "end_time": "2024-01-13T13:49:48.910193",
     "exception": false,
     "start_time": "2024-01-13T13:49:48.896510",
     "status": "completed"
    },
    "tags": []
   },
   "outputs": [],
   "source": [
    "# Split the data into training and validation sets\n",
    "X_train, X_val, y_train, y_val = train_test_split(\n",
    "    train_data['processed_text'],\n",
    "    train_data['generated'],\n",
    "    test_size=0.2,\n",
    "    random_state=42\n",
    ")"
   ]
  },
  {
   "cell_type": "code",
   "execution_count": 7,
   "id": "488c7eeb",
   "metadata": {
    "execution": {
     "iopub.execute_input": "2024-01-13T13:49:48.920197Z",
     "iopub.status.busy": "2024-01-13T13:49:48.919939Z",
     "iopub.status.idle": "2024-01-13T13:49:49.748444Z",
     "shell.execute_reply": "2024-01-13T13:49:49.747608Z"
    },
    "papermill": {
     "duration": 0.836114,
     "end_time": "2024-01-13T13:49:49.750803",
     "exception": false,
     "start_time": "2024-01-13T13:49:48.914689",
     "status": "completed"
    },
    "tags": []
   },
   "outputs": [],
   "source": [
    "# Convert text data to numerical features using TF-IDF\n",
    "tfidf_vectorizer = TfidfVectorizer(max_features=5000)  # You can adjust the number of features\n",
    "X_train_tfidf = tfidf_vectorizer.fit_transform(X_train)\n",
    "X_val_tfidf = tfidf_vectorizer.transform(X_val)"
   ]
  },
  {
   "cell_type": "code",
   "execution_count": 8,
   "id": "c1d4fba3",
   "metadata": {
    "execution": {
     "iopub.execute_input": "2024-01-13T13:49:49.763176Z",
     "iopub.status.busy": "2024-01-13T13:49:49.762410Z",
     "iopub.status.idle": "2024-01-13T13:49:49.827228Z",
     "shell.execute_reply": "2024-01-13T13:49:49.826409Z"
    },
    "papermill": {
     "duration": 0.072727,
     "end_time": "2024-01-13T13:49:49.829202",
     "exception": false,
     "start_time": "2024-01-13T13:49:49.756475",
     "status": "completed"
    },
    "tags": []
   },
   "outputs": [
    {
     "data": {
      "text/html": [
       "<style>#sk-container-id-1 {color: black;background-color: white;}#sk-container-id-1 pre{padding: 0;}#sk-container-id-1 div.sk-toggleable {background-color: white;}#sk-container-id-1 label.sk-toggleable__label {cursor: pointer;display: block;width: 100%;margin-bottom: 0;padding: 0.3em;box-sizing: border-box;text-align: center;}#sk-container-id-1 label.sk-toggleable__label-arrow:before {content: \"▸\";float: left;margin-right: 0.25em;color: #696969;}#sk-container-id-1 label.sk-toggleable__label-arrow:hover:before {color: black;}#sk-container-id-1 div.sk-estimator:hover label.sk-toggleable__label-arrow:before {color: black;}#sk-container-id-1 div.sk-toggleable__content {max-height: 0;max-width: 0;overflow: hidden;text-align: left;background-color: #f0f8ff;}#sk-container-id-1 div.sk-toggleable__content pre {margin: 0.2em;color: black;border-radius: 0.25em;background-color: #f0f8ff;}#sk-container-id-1 input.sk-toggleable__control:checked~div.sk-toggleable__content {max-height: 200px;max-width: 100%;overflow: auto;}#sk-container-id-1 input.sk-toggleable__control:checked~label.sk-toggleable__label-arrow:before {content: \"▾\";}#sk-container-id-1 div.sk-estimator input.sk-toggleable__control:checked~label.sk-toggleable__label {background-color: #d4ebff;}#sk-container-id-1 div.sk-label input.sk-toggleable__control:checked~label.sk-toggleable__label {background-color: #d4ebff;}#sk-container-id-1 input.sk-hidden--visually {border: 0;clip: rect(1px 1px 1px 1px);clip: rect(1px, 1px, 1px, 1px);height: 1px;margin: -1px;overflow: hidden;padding: 0;position: absolute;width: 1px;}#sk-container-id-1 div.sk-estimator {font-family: monospace;background-color: #f0f8ff;border: 1px dotted black;border-radius: 0.25em;box-sizing: border-box;margin-bottom: 0.5em;}#sk-container-id-1 div.sk-estimator:hover {background-color: #d4ebff;}#sk-container-id-1 div.sk-parallel-item::after {content: \"\";width: 100%;border-bottom: 1px solid gray;flex-grow: 1;}#sk-container-id-1 div.sk-label:hover label.sk-toggleable__label {background-color: #d4ebff;}#sk-container-id-1 div.sk-serial::before {content: \"\";position: absolute;border-left: 1px solid gray;box-sizing: border-box;top: 0;bottom: 0;left: 50%;z-index: 0;}#sk-container-id-1 div.sk-serial {display: flex;flex-direction: column;align-items: center;background-color: white;padding-right: 0.2em;padding-left: 0.2em;position: relative;}#sk-container-id-1 div.sk-item {position: relative;z-index: 1;}#sk-container-id-1 div.sk-parallel {display: flex;align-items: stretch;justify-content: center;background-color: white;position: relative;}#sk-container-id-1 div.sk-item::before, #sk-container-id-1 div.sk-parallel-item::before {content: \"\";position: absolute;border-left: 1px solid gray;box-sizing: border-box;top: 0;bottom: 0;left: 50%;z-index: -1;}#sk-container-id-1 div.sk-parallel-item {display: flex;flex-direction: column;z-index: 1;position: relative;background-color: white;}#sk-container-id-1 div.sk-parallel-item:first-child::after {align-self: flex-end;width: 50%;}#sk-container-id-1 div.sk-parallel-item:last-child::after {align-self: flex-start;width: 50%;}#sk-container-id-1 div.sk-parallel-item:only-child::after {width: 0;}#sk-container-id-1 div.sk-dashed-wrapped {border: 1px dashed gray;margin: 0 0.4em 0.5em 0.4em;box-sizing: border-box;padding-bottom: 0.4em;background-color: white;}#sk-container-id-1 div.sk-label label {font-family: monospace;font-weight: bold;display: inline-block;line-height: 1.2em;}#sk-container-id-1 div.sk-label-container {text-align: center;}#sk-container-id-1 div.sk-container {/* jupyter's `normalize.less` sets `[hidden] { display: none; }` but bootstrap.min.css set `[hidden] { display: none !important; }` so we also need the `!important` here to be able to override the default hidden behavior on the sphinx rendered scikit-learn.org. See: https://github.com/scikit-learn/scikit-learn/issues/21755 */display: inline-block !important;position: relative;}#sk-container-id-1 div.sk-text-repr-fallback {display: none;}</style><div id=\"sk-container-id-1\" class=\"sk-top-container\"><div class=\"sk-text-repr-fallback\"><pre>LogisticRegression()</pre><b>In a Jupyter environment, please rerun this cell to show the HTML representation or trust the notebook. <br />On GitHub, the HTML representation is unable to render, please try loading this page with nbviewer.org.</b></div><div class=\"sk-container\" hidden><div class=\"sk-item\"><div class=\"sk-estimator sk-toggleable\"><input class=\"sk-toggleable__control sk-hidden--visually\" id=\"sk-estimator-id-1\" type=\"checkbox\" checked><label for=\"sk-estimator-id-1\" class=\"sk-toggleable__label sk-toggleable__label-arrow\">LogisticRegression</label><div class=\"sk-toggleable__content\"><pre>LogisticRegression()</pre></div></div></div></div></div>"
      ],
      "text/plain": [
       "LogisticRegression()"
      ]
     },
     "execution_count": 8,
     "metadata": {},
     "output_type": "execute_result"
    }
   ],
   "source": [
    "# Train a logistic regression model\n",
    "model = LogisticRegression()\n",
    "model.fit(X_train_tfidf, y_train)"
   ]
  },
  {
   "cell_type": "code",
   "execution_count": 9,
   "id": "038a7af7",
   "metadata": {
    "execution": {
     "iopub.execute_input": "2024-01-13T13:49:49.840362Z",
     "iopub.status.busy": "2024-01-13T13:49:49.840072Z",
     "iopub.status.idle": "2024-01-13T13:49:49.844886Z",
     "shell.execute_reply": "2024-01-13T13:49:49.844058Z"
    },
    "papermill": {
     "duration": 0.012496,
     "end_time": "2024-01-13T13:49:49.846827",
     "exception": false,
     "start_time": "2024-01-13T13:49:49.834331",
     "status": "completed"
    },
    "tags": []
   },
   "outputs": [],
   "source": [
    "# Make predictions on the validation set\n",
    "predictions = model.predict(X_val_tfidf)"
   ]
  },
  {
   "cell_type": "code",
   "execution_count": 10,
   "id": "860645b8",
   "metadata": {
    "execution": {
     "iopub.execute_input": "2024-01-13T13:49:49.857388Z",
     "iopub.status.busy": "2024-01-13T13:49:49.857122Z",
     "iopub.status.idle": "2024-01-13T13:49:49.863273Z",
     "shell.execute_reply": "2024-01-13T13:49:49.862420Z"
    },
    "papermill": {
     "duration": 0.013571,
     "end_time": "2024-01-13T13:49:49.865170",
     "exception": false,
     "start_time": "2024-01-13T13:49:49.851599",
     "status": "completed"
    },
    "tags": []
   },
   "outputs": [
    {
     "name": "stdout",
     "output_type": "stream",
     "text": [
      "Accuracy: 1.00\n"
     ]
    }
   ],
   "source": [
    "# Evaluate the model\n",
    "accuracy = accuracy_score(y_val, predictions)\n",
    "print(f'Accuracy: {accuracy:.2f}')"
   ]
  },
  {
   "cell_type": "code",
   "execution_count": 11,
   "id": "0d141aaa",
   "metadata": {
    "execution": {
     "iopub.execute_input": "2024-01-13T13:49:49.876011Z",
     "iopub.status.busy": "2024-01-13T13:49:49.875751Z",
     "iopub.status.idle": "2024-01-13T13:49:49.893035Z",
     "shell.execute_reply": "2024-01-13T13:49:49.891823Z"
    },
    "papermill": {
     "duration": 0.025594,
     "end_time": "2024-01-13T13:49:49.895651",
     "exception": false,
     "start_time": "2024-01-13T13:49:49.870057",
     "status": "completed"
    },
    "tags": []
   },
   "outputs": [
    {
     "name": "stdout",
     "output_type": "stream",
     "text": [
      "              precision    recall  f1-score   support\n",
      "\n",
      "           0       1.00      1.00      1.00       275\n",
      "           1       0.00      0.00      0.00         1\n",
      "\n",
      "    accuracy                           1.00       276\n",
      "   macro avg       0.50      0.50      0.50       276\n",
      "weighted avg       0.99      1.00      0.99       276\n",
      "\n"
     ]
    },
    {
     "name": "stderr",
     "output_type": "stream",
     "text": [
      "/opt/conda/lib/python3.10/site-packages/sklearn/metrics/_classification.py:1344: UndefinedMetricWarning: Precision and F-score are ill-defined and being set to 0.0 in labels with no predicted samples. Use `zero_division` parameter to control this behavior.\n",
      "  _warn_prf(average, modifier, msg_start, len(result))\n",
      "/opt/conda/lib/python3.10/site-packages/sklearn/metrics/_classification.py:1344: UndefinedMetricWarning: Precision and F-score are ill-defined and being set to 0.0 in labels with no predicted samples. Use `zero_division` parameter to control this behavior.\n",
      "  _warn_prf(average, modifier, msg_start, len(result))\n",
      "/opt/conda/lib/python3.10/site-packages/sklearn/metrics/_classification.py:1344: UndefinedMetricWarning: Precision and F-score are ill-defined and being set to 0.0 in labels with no predicted samples. Use `zero_division` parameter to control this behavior.\n",
      "  _warn_prf(average, modifier, msg_start, len(result))\n"
     ]
    }
   ],
   "source": [
    " # Display classification report\n",
    "print(classification_report(y_val, predictions))"
   ]
  },
  {
   "cell_type": "code",
   "execution_count": 12,
   "id": "9712eb8f",
   "metadata": {
    "execution": {
     "iopub.execute_input": "2024-01-13T13:49:49.907226Z",
     "iopub.status.busy": "2024-01-13T13:49:49.906957Z",
     "iopub.status.idle": "2024-01-13T13:49:49.916848Z",
     "shell.execute_reply": "2024-01-13T13:49:49.916025Z"
    },
    "papermill": {
     "duration": 0.01772,
     "end_time": "2024-01-13T13:49:49.918938",
     "exception": false,
     "start_time": "2024-01-13T13:49:49.901218",
     "status": "completed"
    },
    "tags": []
   },
   "outputs": [],
   "source": [
    "test_essays = pd.read_csv('/kaggle/input/llm-detect-ai-generated-text/test_essays.csv')\n",
    "test_essays['processed_text'] = test_essays['text'].apply(lambda x: x.lower())"
   ]
  },
  {
   "cell_type": "code",
   "execution_count": 13,
   "id": "f66fd3e9",
   "metadata": {
    "execution": {
     "iopub.execute_input": "2024-01-13T13:49:49.929966Z",
     "iopub.status.busy": "2024-01-13T13:49:49.929672Z",
     "iopub.status.idle": "2024-01-13T13:49:49.935041Z",
     "shell.execute_reply": "2024-01-13T13:49:49.934249Z"
    },
    "papermill": {
     "duration": 0.012789,
     "end_time": "2024-01-13T13:49:49.936786",
     "exception": false,
     "start_time": "2024-01-13T13:49:49.923997",
     "status": "completed"
    },
    "tags": []
   },
   "outputs": [],
   "source": [
    "# Predict on the hidden test set\n",
    "X_test_tfidf = tfidf_vectorizer.transform(test_essays['processed_text'])\n",
    "test_predictions = model.predict(X_test_tfidf)"
   ]
  },
  {
   "cell_type": "code",
   "execution_count": 14,
   "id": "076ba749",
   "metadata": {
    "execution": {
     "iopub.execute_input": "2024-01-13T13:49:49.948423Z",
     "iopub.status.busy": "2024-01-13T13:49:49.947909Z",
     "iopub.status.idle": "2024-01-13T13:49:49.955371Z",
     "shell.execute_reply": "2024-01-13T13:49:49.954652Z"
    },
    "papermill": {
     "duration": 0.014986,
     "end_time": "2024-01-13T13:49:49.957181",
     "exception": false,
     "start_time": "2024-01-13T13:49:49.942195",
     "status": "completed"
    },
    "tags": []
   },
   "outputs": [],
   "source": [
    "# Create a submission file\n",
    "submission_df = pd.DataFrame({'id': test_essays['id'], 'generated': test_predictions})\n",
    "submission_df.to_csv('submission.csv', index=False)"
   ]
  },
  {
   "cell_type": "code",
   "execution_count": null,
   "id": "a1767158",
   "metadata": {
    "papermill": {
     "duration": 0.004815,
     "end_time": "2024-01-13T13:49:49.967052",
     "exception": false,
     "start_time": "2024-01-13T13:49:49.962237",
     "status": "completed"
    },
    "tags": []
   },
   "outputs": [],
   "source": []
  }
 ],
 "metadata": {
  "kaggle": {
   "accelerator": "nvidiaTeslaT4",
   "dataSources": [
    {
     "databundleVersionId": 6888007,
     "sourceId": 61542,
     "sourceType": "competition"
    }
   ],
   "dockerImageVersionId": 30636,
   "isGpuEnabled": true,
   "isInternetEnabled": false,
   "language": "python",
   "sourceType": "notebook"
  },
  "kernelspec": {
   "display_name": "Python 3",
   "language": "python",
   "name": "python3"
  },
  "language_info": {
   "codemirror_mode": {
    "name": "ipython",
    "version": 3
   },
   "file_extension": ".py",
   "mimetype": "text/x-python",
   "name": "python",
   "nbconvert_exporter": "python",
   "pygments_lexer": "ipython3",
   "version": "3.10.12"
  },
  "papermill": {
   "default_parameters": {},
   "duration": 9.224897,
   "end_time": "2024-01-13T13:49:50.389542",
   "environment_variables": {},
   "exception": null,
   "input_path": "__notebook__.ipynb",
   "output_path": "__notebook__.ipynb",
   "parameters": {},
   "start_time": "2024-01-13T13:49:41.164645",
   "version": "2.4.0"
  }
 },
 "nbformat": 4,
 "nbformat_minor": 5
}
